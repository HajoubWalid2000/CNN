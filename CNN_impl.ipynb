{
 "cells": [
  {
   "cell_type": "markdown",
   "metadata": {},
   "source": [
    "\n",
    "<h1 align =\"center\" style = \"color:blue\">  Implémentation CNN</h1>\n",
    "<h3 align =\"center\" style = \"color:blue\">Mohamed walid hajoub SIDSD0001/21 </h3>"
   ]
  },
  {
   "cell_type": "markdown",
   "metadata": {},
   "source": [
    "### importer Bibliothéque"
   ]
  },
  {
   "cell_type": "code",
   "execution_count": 1,
   "metadata": {},
   "outputs": [],
   "source": [
    "\n",
    "from tensorflow.keras.datasets import mnist\n",
    "from tensorflow.keras.models import Sequential\n",
    "from tensorflow.keras.layers import Conv2D\n",
    "from tensorflow.keras.layers import MaxPool2D\n",
    "from tensorflow.keras.layers import Flatten\n",
    "from tensorflow.keras.layers import Dense\n",
    "import matplotlib.pyplot as plt"
   ]
  },
  {
   "cell_type": "markdown",
   "metadata": {},
   "source": [
    "### importer Dataset"
   ]
  },
  {
   "cell_type": "code",
   "execution_count": 2,
   "metadata": {
    "colab": {
     "base_uri": "https://localhost:8080/",
     "height": 251
    },
    "id": "V_usrE_aSOLT",
    "outputId": "3878f8bc-509b-4146-ba7f-f6577aea7de2"
   },
   "outputs": [
    {
     "data": {
      "text/plain": [
       "Text(0.5, 1.0, 'Nombre : 5')"
      ]
     },
     "execution_count": 2,
     "metadata": {},
     "output_type": "execute_result"
    },
    {
     "data": {
      "image/png": "[encoded data removed]",
      "text/plain": [
       "<Figure size 432x288 with 1 Axes>"
      ]
     },
     "metadata": {
      "needs_background": "light"
     },
     "output_type": "display_data"
    }
   ],
   "source": [
    "#loading data\n",
    "(X_train,y_train) , (X_test,y_test) = mnist.load_data()\n",
    "plt.subplot(121)\n",
    "plt.imshow(X_train[0,:,:], cmap='gray')\n",
    "plt.title(\"Nombre : {}\".format(y_train[0]))\n",
    "\n"
   ]
  },
  {
   "cell_type": "markdown",
   "metadata": {},
   "source": [
    "### Dimension"
   ]
  },
  {
   "cell_type": "code",
   "execution_count": 3,
   "metadata": {},
   "outputs": [
    {
     "name": "stdout",
     "output_type": "stream",
     "text": [
      "(60000, 28, 28)\n",
      "(10000, 28, 28)\n"
     ]
    }
   ],
   "source": [
    "print(X_train.shape)\n",
    "print(X_test.shape)"
   ]
  },
  {
   "cell_type": "markdown",
   "metadata": {},
   "source": [
    "### Redimensionner"
   ]
  },
  {
   "cell_type": "code",
   "execution_count": 4,
   "metadata": {},
   "outputs": [
    {
     "name": "stdout",
     "output_type": "stream",
     "text": [
      "(60000, 28, 28, 1)\n",
      "(10000, 28, 28, 1)\n"
     ]
    }
   ],
   "source": [
    "X_train = X_train.reshape((X_train.shape[0], X_train.shape[1], X_train.shape[2], 1))\n",
    "X_test = X_test.reshape((X_test.shape[0],X_test.shape[1],X_test.shape[2],1)) \n",
    "\n",
    "print(X_train.shape)\n",
    "print(X_test.shape)"
   ]
  },
  {
   "cell_type": "markdown",
   "metadata": {},
   "source": [
    "### Normalisation\n",
    "mettre les variables de dataset sur la même échelle \n",
    "\n",
    "utilisent min/max\n",
    "${X = \\frac{X - min}{max - min}}$"
   ]
  },
  {
   "cell_type": "code",
   "execution_count": 5,
   "metadata": {},
   "outputs": [],
   "source": [
    "X_train=X_train/255\n",
    "X_test=X_test/255"
   ]
  },
  {
   "cell_type": "markdown",
   "metadata": {},
   "source": [
    "### defini le modele"
   ]
  },
  {
   "cell_type": "code",
   "execution_count": 6,
   "metadata": {},
   "outputs": [],
   "source": [
    "#defining model\n",
    "model=Sequential()"
   ]
  },
  {
   "cell_type": "markdown",
   "metadata": {},
   "source": [
    "### ajouter convolution layer\n",
    " - les filtres : valeur entière qui détermine également le nombre de filtres de sortie dans la convolution.\n",
    " - taille noyau :  détermine les dimensions du noyau. Les dimensions courantes incluent 3 × 3, 5 × 5 et 7 × 7 qui peuvent être transmises comme tuples (1, 1), (3, 3), (5, 5) ou (7, 7).\n",
    " - Strid : spécifiant le \"pas\" de la convolution \n",
    " - padding de la classe Keras Conv2D peut prendre l'une des deux valeurs suivantes : **'valid'** ou **'same'**.\n",
    "\"valid\"signifie pas de padding. \"same\" entraîne un remplissage uniforme à gauche/droite ou haut/bas de l'entrée de sorte que la sortie ait la même dimension hauteur/largeur que l'entrée.\n",
    "-  vister ce lien https://www.geeksforgeeks.org/keras-conv2d-class/ pour plus d'information"
   ]
  },
  {
   "cell_type": "code",
   "execution_count": 7,
   "metadata": {},
   "outputs": [],
   "source": [
    "model.add(Conv2D(32,(3,3),activation='relu',input_shape=(28,28,1)))"
   ]
  },
  {
   "cell_type": "markdown",
   "metadata": {},
   "source": [
    "### ajouter Pooling layer\n",
    " => plus d'information:  https://www.tensorflow.org/api_docs/python/tf/keras/layers/MaxPool2D"
   ]
  },
  {
   "cell_type": "code",
   "execution_count": 8,
   "metadata": {},
   "outputs": [],
   "source": [
    "model.add(MaxPool2D(2,2))"
   ]
  },
  {
   "cell_type": "markdown",
   "metadata": {},
   "source": [
    "### Aplatir 3D -> 1D "
   ]
  },
  {
   "cell_type": "code",
   "execution_count": 9,
   "metadata": {},
   "outputs": [],
   "source": [
    "model.add(Flatten())"
   ]
  },
  {
   "cell_type": "markdown",
   "metadata": {},
   "source": [
    "### Ajouter fully connected layer\n",
    "- units : Entier positif, dimensionnalité de l'espace de sortie.\n",
    "- activation : Fonction d'activation à utiliser. Si vous ne spécifiez rien, aucune activation n'est appliquée (c'est-à-dire une activation \"linéaire\": a(x) = x).\n",
    "- use_bias : booléen, si la couche utilise un vecteur de biais.\n",
    "- kernel_initializer : Initialiseur pour la kernelmatrice des poids.\n",
    "- bias_initializer : Initialiseur pour le vecteur de biais.\n",
    "- kernel_regularizer : Fonction de régularisation appliquée à la kernelmatrice des poids.\n",
    "."
   ]
  },
  {
   "cell_type": "code",
   "execution_count": 10,
   "metadata": {
    "colab": {
     "base_uri": "https://localhost:8080/"
    },
    "id": "nW97ZKvdGfco",
    "outputId": "11f8d6d8-71d4-4636-bd7f-77b679bedc90"
   },
   "outputs": [],
   "source": [
    "model.add(Dense(100,activation='relu'))\n",
    "model.add(Dense(10,activation='softmax'))"
   ]
  },
  {
   "cell_type": "markdown",
   "metadata": {},
   "source": [
    "### Compiler est entrainner Modele"
   ]
  },
  {
   "cell_type": "code",
   "execution_count": 11,
   "metadata": {},
   "outputs": [
    {
     "name": "stdout",
     "output_type": "stream",
     "text": [
      "Epoch 1/6\n",
      "1875/1875 [==============================] - 47s 25ms/step - loss: 0.1504 - accuracy: 0.9560\n",
      "Epoch 2/6\n",
      "1875/1875 [==============================] - 44s 24ms/step - loss: 0.0536 - accuracy: 0.9833\n",
      "Epoch 3/6\n",
      "1875/1875 [==============================] - 40s 21ms/step - loss: 0.0363 - accuracy: 0.9884\n",
      "Epoch 4/6\n",
      "1875/1875 [==============================] - 42s 22ms/step - loss: 0.0236 - accuracy: 0.9922\n",
      "Epoch 5/6\n",
      "1875/1875 [==============================] - 45s 24ms/step - loss: 0.0172 - accuracy: 0.9946\n",
      "Epoch 6/6\n",
      "1875/1875 [==============================] - 47s 25ms/step - loss: 0.0133 - accuracy: 0.9959\n"
     ]
    }
   ],
   "source": [
    "model.compile(loss='sparse_categorical_crossentropy',optimizer='adam',metrics=['accuracy'])\n",
    "model=model.fit(X_train,y_train,epochs=6)"
   ]
  },
  {
   "cell_type": "markdown",
   "metadata": {},
   "source": [
    "### Evaluer Modele"
   ]
  },
  {
   "cell_type": "code",
   "execution_count": null,
   "metadata": {
    "colab": {
     "base_uri": "https://localhost:8080/"
    },
    "id": "uxUUPZ8TEqJn",
    "outputId": "21bc6d22-71f8-48ce-bb81-922de239278c"
   },
   "outputs": [],
   "source": [
    "\n",
    "test_eval = model.evaluate(X_test,y_test)\n",
    "print('Test loss:', test_eval[0])\n",
    "print('Test accuracy:', test_eval[1])"
   ]
  }
 ],
 "metadata": {
  "colab": {
   "collapsed_sections": [],
   "name": "CNN_impl.ipynb",
   "provenance": []
  },
  "interpreter": {
   "hash": "ad2bdc8ecc057115af97d19610ffacc2b4e99fae6737bb82f5d7fb13d2f2c186"
  },
  "kernelspec": {
   "display_name": "Python 3 (ipykernel)",
   "language": "python",
   "name": "python3"
  },
  "language_info": {
   "codemirror_mode": {
    "name": "ipython",
    "version": 3
   },
   "file_extension": ".py",
   "mimetype": "text/x-python",
   "name": "python",
   "nbconvert_exporter": "python",
   "pygments_lexer": "ipython3",
   "version": "3.9.7"
  }
 },
 "nbformat": 4,
 "nbformat_minor": 1
}
