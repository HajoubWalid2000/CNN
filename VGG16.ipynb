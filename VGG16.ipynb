{
 "cells": [
  {
   "cell_type": "markdown",
   "metadata": {},
   "source": [
    "\n",
    "<h1 align =\"center\" style = \"color:blue\">  Implémentation VGG 16</h1>\n",
    "<h3 align =\"center\" style = \"color:blue\">Mohamed walid hajoub SIDSD0001/21 </h3>"
   ]
  },
  {
   "cell_type": "markdown",
   "metadata": {},
   "source": [
    "## importer les bibliothéque"
   ]
  },
  {
   "cell_type": "code",
   "execution_count": 1,
   "metadata": {},
   "outputs": [],
   "source": [
    "import tensorflow as tf\n",
    "from tensorflow.keras.models import Sequential,Model\n",
    "from tensorflow.keras.layers import Conv2D\n",
    "from tensorflow.keras.layers import MaxPool2D\n",
    "from tensorflow.keras.layers import Flatten\n",
    "from tensorflow.keras.layers import Dense\n",
    "from tensorflow.keras.preprocessing import image\n",
    "from tensorflow.keras.preprocessing.image import ImageDataGenerator,load_img\n",
    "from tensorflow.keras.models import load_model\n",
    "import numpy as np\n",
    "import matplotlib.pyplot as plt"
   ]
  },
  {
   "cell_type": "markdown",
   "metadata": {},
   "source": [
    "## Importer Dataset"
   ]
  },
  {
   "cell_type": "code",
   "execution_count": 2,
   "metadata": {},
   "outputs": [],
   "source": [
    "train_path = 'D:\\\\Cotton_Disease\\\\train'\n",
    "test_path = 'D:\\\\Cotton_Disease\\\\test'\n",
    "IMAGE_SIZE =[224, 224]"
   ]
  },
  {
   "cell_type": "markdown",
   "metadata": {},
   "source": [
    "Cette étape est un prétraitement de données, nous travaillons avec une image c'est pourquoi nous faisons Image Augmentation.\n",
    " Ici, nous passons d'abord plusieurs arguments , c'est comme \n",
    " - **une mise à l'échelle** des caractéristiques qui fait dans le prétraitement des données ici notre image de 0 à 255 pixels et nous redimensionnons en 0 et 1. \n",
    " - Ensuite, c'est **Shear_range** appliquer des transactions aléatoires et nous garderons cette 0.2. \n",
    " - **zoom_range** qui appliquera un zoom aléatoire et nous gardons la valeur 0,2. \n",
    " - Et puis le dernier est **horizontal_flip** Inverser aléatoirement les entrées horizontalement"
   ]
  },
  {
   "cell_type": "code",
   "execution_count": 3,
   "metadata": {},
   "outputs": [],
   "source": [
    "train_datagen = ImageDataGenerator()\n",
    "\n",
    "test_datagen = ImageDataGenerator()"
   ]
  },
  {
   "cell_type": "code",
   "execution_count": 4,
   "metadata": {},
   "outputs": [
    {
     "name": "stdout",
     "output_type": "stream",
     "text": [
      "Found 1951 images belonging to 4 classes.\n",
      "Found 106 images belonging to 4 classes.\n"
     ]
    }
   ],
   "source": [
    "\n",
    "training_set = train_datagen.flow_from_directory(train_path,\n",
    "                                                 target_size = (224, 224),\n",
    "                                                 batch_size = 32,  # donner chaque 32 image pour entrainner 32 par 32\n",
    "                                                 class_mode = 'categorical')\n",
    "\n",
    "test_set = test_datagen.flow_from_directory(test_path,\n",
    "                                            target_size = (224, 224),\n",
    "                                            batch_size = 32,\n",
    "                                            class_mode = 'categorical')"
   ]
  },
  {
   "cell_type": "markdown",
   "metadata": {},
   "source": [
    "### analyse Dataset"
   ]
  },
  {
   "cell_type": "code",
   "execution_count": 5,
   "metadata": {},
   "outputs": [
    {
     "name": "stdout",
     "output_type": "stream",
     "text": [
      "******************************* trainset data **************************\n",
      "nombre de classe  4\n",
      "classe est :  {'diseased cotton plant': 0, 'diseased_cotton_leaf': 1, 'fresh cotton leaf': 2, 'fresh cotton plant': 3}\n",
      "taille de chaque image (224, 224, 3)\n",
      "******************************* testset data **************************\n",
      "nombre de classe  4\n",
      "classe est :  {'diseased cotton leaf': 0, 'diseased cotton plant': 1, 'fresh cotton leaf': 2, 'fresh cotton plant': 3}\n",
      "taille de chaque image (224, 224, 3)\n"
     ]
    }
   ],
   "source": [
    "print(\"******************************* trainset data **************************\")\n",
    "print(\"nombre de classe \",len(training_set.class_indices))\n",
    "print(\"classe est : \",training_set.class_indices)\n",
    "print(\"taille de chaque image\",training_set.image_shape)\n",
    "\n",
    "print(\"******************************* testset data **************************\")\n",
    "print(\"nombre de classe \",len(test_set.class_indices))\n",
    "print(\"classe est : \",test_set.class_indices)\n",
    "print(\"taille de chaque image\",test_set.image_shape)\n",
    "\n",
    "nbr_class = len(training_set.class_indices)\n"
   ]
  },
  {
   "cell_type": "markdown",
   "metadata": {},
   "source": [
    "## creation de VGG16 utiliser librairie keras ou crée propre code"
   ]
  },
  {
   "cell_type": "markdown",
   "metadata": {},
   "source": [
    "### code source"
   ]
  },
  {
   "cell_type": "code",
   "execution_count": 6,
   "metadata": {},
   "outputs": [],
   "source": [
    "def VGG16():\n",
    "    model = Sequential()\n",
    "    model.add(Conv2D(input_shape=(224,224,3),filters=64,kernel_size=(3,3),padding=\"same\", activation=\"relu\"))\n",
    "    model.add(Conv2D(filters=64,kernel_size=(3,3),padding=\"same\", activation=\"relu\"))\n",
    "    model.add(MaxPool2D(pool_size=(2,2),strides=(2,2)))\n",
    "\n",
    "    model.add(Conv2D(filters=128, kernel_size=(3,3), padding=\"same\", activation=\"relu\"))\n",
    "    model.add(Conv2D(filters=128, kernel_size=(3,3), padding=\"same\", activation=\"relu\"))\n",
    "    model.add(MaxPool2D(pool_size=(2,2),strides=(2,2)))\n",
    "\n",
    "    model.add(Conv2D(filters=256, kernel_size=(3,3), padding=\"same\", activation=\"relu\"))\n",
    "    model.add(Conv2D(filters=256, kernel_size=(3,3), padding=\"same\", activation=\"relu\"))\n",
    "    model.add(Conv2D(filters=256, kernel_size=(3,3), padding=\"same\", activation=\"relu\"))\n",
    "    model.add(MaxPool2D(pool_size=(2,2),strides=(2,2)))\n",
    "\n",
    "    model.add(Conv2D(filters=512, kernel_size=(3,3), padding=\"same\", activation=\"relu\"))\n",
    "    model.add(Conv2D(filters=512, kernel_size=(3,3), padding=\"same\", activation=\"relu\"))\n",
    "    model.add(Conv2D(filters=512, kernel_size=(3,3), padding=\"same\", activation=\"relu\"))\n",
    "    model.add(MaxPool2D(pool_size=(2,2),strides=(2,2)))\n",
    "\n",
    "    model.add(Conv2D(filters=512, kernel_size=(3,3), padding=\"same\", activation=\"relu\"))\n",
    "    model.add(Conv2D(filters=512, kernel_size=(3,3), padding=\"same\", activation=\"relu\"))\n",
    "    model.add(Conv2D(filters=512, kernel_size=(3,3), padding=\"same\", activation=\"relu\"))\n",
    "    model.add(MaxPool2D(pool_size=(2,2),strides=(2,2),name='vgg16'))\n",
    "    return model"
   ]
  },
  {
   "cell_type": "markdown",
   "metadata": {},
   "source": [
    "### keras librairie"
   ]
  },
  {
   "cell_type": "code",
   "execution_count": 7,
   "metadata": {},
   "outputs": [],
   "source": [
    "from tensorflow.keras.applications.vgg16 import VGG16\n",
    "vgg16 = VGG16(input_shape=IMAGE_SIZE + [3], weights='imagenet', include_top=False)"
   ]
  },
  {
   "cell_type": "markdown",
   "metadata": {},
   "source": [
    "Dans Keras, chaque couche a un paramètre appelé \"trainable\". Pour geler les poids d'une couche particulière, nous devons définir ce paramètre sur **False**, indiquant que cette couche ne doit pas être entraînée. Après cela, nous passons en revue chaque couche et sélectionnons les couches que nous voulons former."
   ]
  },
  {
   "cell_type": "code",
   "execution_count": 8,
   "metadata": {},
   "outputs": [],
   "source": [
    "for layer in vgg16.layers:\n",
    "    layer.trainable = False"
   ]
  },
  {
   "cell_type": "markdown",
   "metadata": {},
   "source": [
    "### Aplatir la sortie de 3D -> 1D"
   ]
  },
  {
   "cell_type": "code",
   "execution_count": 9,
   "metadata": {},
   "outputs": [
    {
     "name": "stdout",
     "output_type": "stream",
     "text": [
      "<bound method KerasTensor.get_shape of <KerasTensor: shape=(None, 7, 7, 512) dtype=float32 (created by layer 'block5_pool')>>\n"
     ]
    }
   ],
   "source": [
    "print(vgg16.output.get_shape)\n",
    "x = Flatten()(vgg16.output)"
   ]
  },
  {
   "cell_type": "markdown",
   "metadata": {},
   "source": [
    "### Connect layer"
   ]
  },
  {
   "cell_type": "code",
   "execution_count": 10,
   "metadata": {},
   "outputs": [],
   "source": [
    "x = Dense(nbr_class, activation='relu')(x)\n",
    "x = Dense(nbr_class, activation='relu')(x)\n",
    "prediction = Dense(nbr_class, activation='softmax')(x)\n"
   ]
  },
  {
   "cell_type": "markdown",
   "metadata": {},
   "source": [
    "### définir Modele"
   ]
  },
  {
   "cell_type": "code",
   "execution_count": 11,
   "metadata": {},
   "outputs": [],
   "source": [
    "model = Model(inputs=vgg16.input, outputs=prediction)"
   ]
  },
  {
   "cell_type": "markdown",
   "metadata": {},
   "source": [
    "### visualiser structure de Modele"
   ]
  },
  {
   "cell_type": "code",
   "execution_count": 12,
   "metadata": {},
   "outputs": [
    {
     "name": "stdout",
     "output_type": "stream",
     "text": [
      "Model: \"model\"\n",
      "_________________________________________________________________\n",
      " Layer (type)                Output Shape              Param #   \n",
      "=================================================================\n",
      " input_1 (InputLayer)        [(None, 224, 224, 3)]     0         \n",
      "                                                                 \n",
      " block1_conv1 (Conv2D)       (None, 224, 224, 64)      1792      \n",
      "                                                                 \n",
      " block1_conv2 (Conv2D)       (None, 224, 224, 64)      36928     \n",
      "                                                                 \n",
      " block1_pool (MaxPooling2D)  (None, 112, 112, 64)      0         \n",
      "                                                                 \n",
      " block2_conv1 (Conv2D)       (None, 112, 112, 128)     73856     \n",
      "                                                                 \n",
      " block2_conv2 (Conv2D)       (None, 112, 112, 128)     147584    \n",
      "                                                                 \n",
      " block2_pool (MaxPooling2D)  (None, 56, 56, 128)       0         \n",
      "                                                                 \n",
      " block3_conv1 (Conv2D)       (None, 56, 56, 256)       295168    \n",
      "                                                                 \n",
      " block3_conv2 (Conv2D)       (None, 56, 56, 256)       590080    \n",
      "                                                                 \n",
      " block3_conv3 (Conv2D)       (None, 56, 56, 256)       590080    \n",
      "                                                                 \n",
      " block3_pool (MaxPooling2D)  (None, 28, 28, 256)       0         \n",
      "                                                                 \n",
      " block4_conv1 (Conv2D)       (None, 28, 28, 512)       1180160   \n",
      "                                                                 \n",
      " block4_conv2 (Conv2D)       (None, 28, 28, 512)       2359808   \n",
      "                                                                 \n",
      " block4_conv3 (Conv2D)       (None, 28, 28, 512)       2359808   \n",
      "                                                                 \n",
      " block4_pool (MaxPooling2D)  (None, 14, 14, 512)       0         \n",
      "                                                                 \n",
      " block5_conv1 (Conv2D)       (None, 14, 14, 512)       2359808   \n",
      "                                                                 \n",
      " block5_conv2 (Conv2D)       (None, 14, 14, 512)       2359808   \n",
      "                                                                 \n",
      " block5_conv3 (Conv2D)       (None, 14, 14, 512)       2359808   \n",
      "                                                                 \n",
      " block5_pool (MaxPooling2D)  (None, 7, 7, 512)         0         \n",
      "                                                                 \n",
      " flatten (Flatten)           (None, 25088)             0         \n",
      "                                                                 \n",
      " dense (Dense)               (None, 4)                 100356    \n",
      "                                                                 \n",
      " dense_1 (Dense)             (None, 4)                 20        \n",
      "                                                                 \n",
      " dense_2 (Dense)             (None, 4)                 20        \n",
      "                                                                 \n",
      "=================================================================\n",
      "Total params: 14,815,084\n",
      "Trainable params: 100,396\n",
      "Non-trainable params: 14,714,688\n",
      "_________________________________________________________________\n"
     ]
    }
   ],
   "source": [
    "model.summary()"
   ]
  },
  {
   "cell_type": "markdown",
   "metadata": {},
   "source": [
    "### Compiler Modele"
   ]
  },
  {
   "cell_type": "code",
   "execution_count": 13,
   "metadata": {},
   "outputs": [],
   "source": [
    "model.compile(\n",
    "  loss='categorical_crossentropy',\n",
    "  optimizer='adam',\n",
    "  metrics=['accuracy']\n",
    ")"
   ]
  },
  {
   "cell_type": "markdown",
   "metadata": {},
   "source": [
    "### Entrainer modele"
   ]
  },
  {
   "cell_type": "code",
   "execution_count": 14,
   "metadata": {
    "scrolled": true
   },
   "outputs": [
    {
     "name": "stderr",
     "output_type": "stream",
     "text": [
      "C:\\Users\\HP\\AppData\\Local\\Temp/ipykernel_16860/2954159253.py:1: UserWarning: `Model.fit_generator` is deprecated and will be removed in a future version. Please use `Model.fit`, which supports generators.\n",
      "  r = model.fit_generator(\n"
     ]
    },
    {
     "name": "stdout",
     "output_type": "stream",
     "text": [
      "Epoch 1/9\n",
      "61/61 [==============================] - 617s 10s/step - loss: 1.3212 - accuracy: 0.5156 - val_loss: 6.5064 - val_accuracy: 0.2453\n",
      "Epoch 2/9\n",
      "61/61 [==============================] - 610s 10s/step - loss: 1.1187 - accuracy: 0.6058 - val_loss: 7.1389 - val_accuracy: 0.2830\n",
      "Epoch 3/9\n",
      "61/61 [==============================] - 549s 9s/step - loss: 1.0488 - accuracy: 0.6238 - val_loss: 6.7377 - val_accuracy: 0.2642\n",
      "Epoch 4/9\n",
      "61/61 [==============================] - 608s 10s/step - loss: 0.9802 - accuracy: 0.6304 - val_loss: 15.2877 - val_accuracy: 0.2547\n",
      "Epoch 5/9\n",
      "61/61 [==============================] - 561s 9s/step - loss: 0.9289 - accuracy: 0.6356 - val_loss: 7.9254 - val_accuracy: 0.2642\n",
      "Epoch 6/9\n",
      "61/61 [==============================] - 607s 10s/step - loss: 0.8804 - accuracy: 0.6381 - val_loss: 12.4947 - val_accuracy: 0.2642\n",
      "Epoch 7/9\n",
      "61/61 [==============================] - 599s 10s/step - loss: 0.8463 - accuracy: 0.6412 - val_loss: 8.8813 - val_accuracy: 0.2830\n",
      "Epoch 8/9\n",
      "61/61 [==============================] - 594s 10s/step - loss: 0.8629 - accuracy: 0.6392 - val_loss: 14.4074 - val_accuracy: 0.2453\n",
      "Epoch 9/9\n",
      "61/61 [==============================] - 623s 10s/step - loss: 0.7915 - accuracy: 0.6458 - val_loss: 21.2353 - val_accuracy: 0.2453\n"
     ]
    }
   ],
   "source": [
    "r = model.fit_generator(\n",
    "  training_set,\n",
    "  validation_data=test_set,\n",
    "  epochs=9,\n",
    "  steps_per_epoch=len(training_set),\n",
    "  validation_steps=len(test_set)\n",
    ")"
   ]
  },
  {
   "cell_type": "markdown",
   "metadata": {},
   "source": [
    "### Visualiser Loss / accuracy"
   ]
  },
  {
   "cell_type": "code",
   "execution_count": 27,
   "metadata": {},
   "outputs": [
    {
     "data": {
      "image/png": "[encoded data removed]",
      "text/plain": [
       "<Figure size 432x288 with 1 Axes>"
      ]
     },
     "metadata": {
      "needs_background": "light"
     },
     "output_type": "display_data"
    },
    {
     "data": {
      "image/png": "[encoded data removed]",
      "text/plain": [
       "<Figure size 432x288 with 1 Axes>"
      ]
     },
     "metadata": {
      "needs_background": "light"
     },
     "output_type": "display_data"
    },
    {
     "data": {
      "text/plain": [
       "<Figure size 432x288 with 0 Axes>"
      ]
     },
     "metadata": {},
     "output_type": "display_data"
    }
   ],
   "source": [
    "# plot the loss\n",
    "plt.plot(r.history['loss'], label='train loss')\n",
    "plt.plot(r.history['val_loss'], label='val loss')\n",
    "plt.legend()\n",
    "plt.show()\n",
    "plt.savefig('LossVal_loss')\n",
    "\n",
    "# plot the accuracy\n",
    "plt.plot(r.history['accuracy'], label='train acc')\n",
    "plt.plot(r.history['val_accuracy'], label='val acc')\n",
    "plt.legend()\n",
    "plt.show()\n",
    "plt.savefig('AccVal_acc')"
   ]
  },
  {
   "cell_type": "markdown",
   "metadata": {},
   "source": [
    "### sauvegarger Modele"
   ]
  },
  {
   "cell_type": "code",
   "execution_count": 16,
   "metadata": {},
   "outputs": [],
   "source": [
    "model.save('model_vgg16.h5')"
   ]
  },
  {
   "cell_type": "markdown",
   "metadata": {},
   "source": [
    "### prédiction"
   ]
  },
  {
   "cell_type": "code",
   "execution_count": 17,
   "metadata": {},
   "outputs": [
    {
     "name": "stdout",
     "output_type": "stream",
     "text": [
      "4/4 [==============================] - 35s 7s/step\n"
     ]
    },
    {
     "data": {
      "text/plain": [
       "array([[5.14098167e-01, 9.92673263e-02, 9.64085236e-02, 2.90225953e-01],\n",
       "       [5.14098167e-01, 9.92673263e-02, 9.64085236e-02, 2.90225953e-01],\n",
       "       [5.14098167e-01, 9.92673263e-02, 9.64085236e-02, 2.90225953e-01],\n",
       "       [5.14098167e-01, 9.92673263e-02, 9.64085236e-02, 2.90225953e-01],\n",
       "       [0.00000000e+00, 1.14084460e-01, 8.85915518e-01, 0.00000000e+00],\n",
       "       [5.14098167e-01, 9.92673263e-02, 9.64085236e-02, 2.90225953e-01],\n",
       "       [6.48981497e-37, 2.65894622e-01, 7.34105349e-01, 1.14069094e-26],\n",
       "       [2.62872886e-38, 2.56898969e-01, 7.43101001e-01, 1.15304405e-27],\n",
       "       [5.14098167e-01, 9.92673263e-02, 9.64085236e-02, 2.90225953e-01],\n",
       "       [0.00000000e+00, 2.21606568e-01, 7.78393507e-01, 8.16947885e-32],\n",
       "       [0.00000000e+00, 3.54840346e-02, 9.64516044e-01, 0.00000000e+00],\n",
       "       [4.78673426e-20, 3.89224112e-01, 6.10775948e-01, 1.28672495e-14],\n",
       "       [5.14098167e-01, 9.92673263e-02, 9.64085236e-02, 2.90225953e-01],\n",
       "       [0.00000000e+00, 1.39260069e-01, 8.60739946e-01, 0.00000000e+00],\n",
       "       [0.00000000e+00, 2.30230823e-01, 7.69769192e-01, 9.25696629e-31],\n",
       "       [0.00000000e+00, 1.54589757e-01, 8.45410168e-01, 0.00000000e+00],\n",
       "       [5.14098167e-01, 9.92673263e-02, 9.64085236e-02, 2.90225953e-01],\n",
       "       [5.14098167e-01, 9.92673263e-02, 9.64085236e-02, 2.90225953e-01],\n",
       "       [0.00000000e+00, 5.36336601e-02, 9.46366310e-01, 0.00000000e+00],\n",
       "       [5.14098167e-01, 9.92673263e-02, 9.64085236e-02, 2.90225953e-01],\n",
       "       [5.14098167e-01, 9.92673263e-02, 9.64085236e-02, 2.90225953e-01],\n",
       "       [5.14098167e-01, 9.92673263e-02, 9.64085236e-02, 2.90225953e-01],\n",
       "       [7.76969792e-30, 3.14622372e-01, 6.85377598e-01, 1.30521659e-21],\n",
       "       [5.14098167e-01, 9.92673263e-02, 9.64085236e-02, 2.90225953e-01],\n",
       "       [5.14098167e-01, 9.92673263e-02, 9.64085236e-02, 2.90225953e-01],\n",
       "       [2.27108900e-03, 5.20637870e-01, 4.66760099e-01, 1.03310347e-02],\n",
       "       [5.14098167e-01, 9.92673263e-02, 9.64085236e-02, 2.90225953e-01],\n",
       "       [5.14098167e-01, 9.92673263e-02, 9.64085236e-02, 2.90225953e-01],\n",
       "       [5.14098167e-01, 9.92673263e-02, 9.64085236e-02, 2.90225953e-01],\n",
       "       [1.46353316e-36, 2.68207788e-01, 7.31792212e-01, 2.03985440e-26],\n",
       "       [0.00000000e+00, 9.51489359e-02, 9.04851019e-01, 0.00000000e+00],\n",
       "       [0.00000000e+00, 1.37498081e-01, 8.62501919e-01, 0.00000000e+00],\n",
       "       [0.00000000e+00, 1.96033791e-01, 8.03966165e-01, 3.97245028e-35],\n",
       "       [0.00000000e+00, 2.24448979e-01, 7.75551021e-01, 1.83145875e-31],\n",
       "       [0.00000000e+00, 1.54096335e-01, 8.45903635e-01, 0.00000000e+00],\n",
       "       [0.00000000e+00, 1.77942514e-01, 8.22057426e-01, 1.12615127e-37],\n",
       "       [8.47671117e-24, 3.59777898e-01, 6.40222073e-01, 2.68855239e-17],\n",
       "       [5.14098167e-01, 9.92673263e-02, 9.64085236e-02, 2.90225953e-01],\n",
       "       [0.00000000e+00, 1.68222949e-01, 8.31777036e-01, 0.00000000e+00],\n",
       "       [5.14098167e-01, 9.92673263e-02, 9.64085236e-02, 2.90225953e-01],\n",
       "       [5.14098167e-01, 9.92673263e-02, 9.64085236e-02, 2.90225953e-01],\n",
       "       [5.14098167e-01, 9.92673263e-02, 9.64085236e-02, 2.90225953e-01],\n",
       "       [7.51316274e-31, 3.07342589e-01, 6.92657411e-01, 2.45859949e-22],\n",
       "       [6.57523124e-33, 2.92871714e-01, 7.07128227e-01, 8.31879305e-24],\n",
       "       [0.00000000e+00, 1.94595501e-01, 8.05404484e-01, 2.53085397e-35],\n",
       "       [5.14098167e-01, 9.92673263e-02, 9.64085236e-02, 2.90225953e-01],\n",
       "       [5.14098167e-01, 9.92673263e-02, 9.64085236e-02, 2.90225953e-01],\n",
       "       [5.14098167e-01, 9.92673263e-02, 9.64085236e-02, 2.90225953e-01],\n",
       "       [9.75832572e-27, 3.37423980e-01, 6.62576079e-01, 2.13767549e-19],\n",
       "       [0.00000000e+00, 8.54895189e-02, 9.14510489e-01, 0.00000000e+00],\n",
       "       [5.14098167e-01, 9.92673263e-02, 9.64085236e-02, 2.90225953e-01],\n",
       "       [1.80999005e-28, 3.24579865e-01, 6.75420165e-01, 1.23781439e-20],\n",
       "       [5.14098167e-01, 9.92673263e-02, 9.64085236e-02, 2.90225953e-01],\n",
       "       [5.14098167e-01, 9.92673263e-02, 9.64085236e-02, 2.90225953e-01],\n",
       "       [5.14098167e-01, 9.92673263e-02, 9.64085236e-02, 2.90225953e-01],\n",
       "       [0.00000000e+00, 2.14355886e-01, 7.85644114e-01, 1.00629531e-32],\n",
       "       [4.80698268e-35, 2.78285921e-01, 7.21714139e-01, 2.47441655e-25],\n",
       "       [5.14098167e-01, 9.92673263e-02, 9.64085236e-02, 2.90225953e-01],\n",
       "       [5.14098167e-01, 9.92673263e-02, 9.64085236e-02, 2.90225953e-01],\n",
       "       [5.87448940e-35, 2.78872401e-01, 7.21127629e-01, 2.85576941e-25],\n",
       "       [0.00000000e+00, 7.52581358e-02, 9.24741864e-01, 0.00000000e+00],\n",
       "       [5.14098167e-01, 9.92673263e-02, 9.64085236e-02, 2.90225953e-01],\n",
       "       [5.14098167e-01, 9.92673263e-02, 9.64085236e-02, 2.90225953e-01],\n",
       "       [5.14098167e-01, 9.92673263e-02, 9.64085236e-02, 2.90225953e-01],\n",
       "       [5.14098167e-01, 9.92673263e-02, 9.64085236e-02, 2.90225953e-01],\n",
       "       [5.14098167e-01, 9.92673263e-02, 9.64085236e-02, 2.90225953e-01],\n",
       "       [5.14098167e-01, 9.92673263e-02, 9.64085236e-02, 2.90225953e-01],\n",
       "       [5.43925426e-14, 4.38440681e-01, 5.61559260e-01, 2.71653672e-10],\n",
       "       [0.00000000e+00, 1.83748633e-01, 8.16251397e-01, 7.76567951e-37],\n",
       "       [5.14098167e-01, 9.92673263e-02, 9.64085236e-02, 2.90225953e-01],\n",
       "       [0.00000000e+00, 1.78217422e-02, 9.82178271e-01, 0.00000000e+00],\n",
       "       [4.40437953e-27, 3.34841341e-01, 6.65158749e-01, 1.21087105e-19],\n",
       "       [5.14098167e-01, 9.92673263e-02, 9.64085236e-02, 2.90225953e-01],\n",
       "       [1.25776091e-11, 4.58056539e-01, 5.41943431e-01, 1.32424001e-08],\n",
       "       [0.00000000e+00, 1.54881135e-01, 8.45118880e-01, 0.00000000e+00],\n",
       "       [5.14098167e-01, 9.92673263e-02, 9.64085236e-02, 2.90225953e-01],\n",
       "       [0.00000000e+00, 1.86443150e-01, 8.13556850e-01, 1.87215932e-36],\n",
       "       [5.14098167e-01, 9.92673263e-02, 9.64085236e-02, 2.90225953e-01],\n",
       "       [1.15442011e-21, 3.76412690e-01, 6.23587370e-01, 8.99529085e-16],\n",
       "       [2.47986405e-21, 3.79029036e-01, 6.20970905e-01, 1.55312544e-15],\n",
       "       [5.14098167e-01, 9.92673263e-02, 9.64085236e-02, 2.90225953e-01],\n",
       "       [5.14098167e-01, 9.92673263e-02, 9.64085236e-02, 2.90225953e-01],\n",
       "       [5.14098167e-01, 9.92673263e-02, 9.64085236e-02, 2.90225953e-01],\n",
       "       [5.14098167e-01, 9.92673263e-02, 9.64085236e-02, 2.90225953e-01],\n",
       "       [5.14098167e-01, 9.92673263e-02, 9.64085236e-02, 2.90225953e-01],\n",
       "       [0.00000000e+00, 2.05508500e-01, 7.94491470e-01, 7.27834189e-34],\n",
       "       [1.59696028e-13, 4.42308068e-01, 5.57691932e-01, 5.86151461e-10],\n",
       "       [4.80698268e-35, 2.78285921e-01, 7.21714139e-01, 2.47441655e-25],\n",
       "       [1.72232833e-14, 4.34320033e-01, 5.65680027e-01, 1.19509014e-10],\n",
       "       [0.00000000e+00, 1.53884649e-01, 8.46115410e-01, 0.00000000e+00],\n",
       "       [5.14098167e-01, 9.92673263e-02, 9.64085236e-02, 2.90225953e-01],\n",
       "       [1.45526169e-12, 4.50264931e-01, 5.49735010e-01, 2.83930279e-09],\n",
       "       [0.00000000e+00, 1.68479845e-01, 8.31520140e-01, 0.00000000e+00],\n",
       "       [5.14098167e-01, 9.92673263e-02, 9.64085236e-02, 2.90225953e-01],\n",
       "       [5.14098167e-01, 9.92673263e-02, 9.64085236e-02, 2.90225953e-01],\n",
       "       [1.28757200e-34, 2.81171948e-01, 7.18828082e-01, 5.00371662e-25],\n",
       "       [1.02378913e-23, 3.60410780e-01, 6.39589250e-01, 3.07669333e-17],\n",
       "       [5.14098167e-01, 9.92673263e-02, 9.64085236e-02, 2.90225953e-01],\n",
       "       [5.14098167e-01, 9.92673263e-02, 9.64085236e-02, 2.90225953e-01],\n",
       "       [5.14098167e-01, 9.92673263e-02, 9.64085236e-02, 2.90225953e-01],\n",
       "       [1.32707013e-35, 2.74544328e-01, 7.25455701e-01, 9.86184723e-26],\n",
       "       [5.14098167e-01, 9.92673263e-02, 9.64085236e-02, 2.90225953e-01],\n",
       "       [0.00000000e+00, 2.49021098e-01, 7.50978827e-01, 1.48320210e-28],\n",
       "       [6.80473081e-26, 3.43769729e-01, 6.56230271e-01, 8.56125937e-19],\n",
       "       [5.14098167e-01, 9.92673263e-02, 9.64085236e-02, 2.90225953e-01],\n",
       "       [0.00000000e+00, 8.52928907e-02, 9.14707124e-01, 0.00000000e+00]],\n",
       "      dtype=float32)"
      ]
     },
     "execution_count": 17,
     "metadata": {},
     "output_type": "execute_result"
    }
   ],
   "source": [
    "y_pred = model.predict(test_set)\n",
    "y_pred\n"
   ]
  },
  {
   "cell_type": "code",
   "execution_count": 18,
   "metadata": {},
   "outputs": [
    {
     "data": {
      "text/plain": [
       "array([0, 0, 0, 0, 2, 0, 2, 2, 0, 2, 2, 2, 0, 2, 2, 2, 0, 0, 2, 0, 0, 0,\n",
       "       2, 0, 0, 1, 0, 0, 0, 2, 2, 2, 2, 2, 2, 2, 2, 0, 2, 0, 0, 0, 2, 2,\n",
       "       2, 0, 0, 0, 2, 2, 0, 2, 0, 0, 0, 2, 2, 0, 0, 2, 2, 0, 0, 0, 0, 0,\n",
       "       0, 2, 2, 0, 2, 2, 0, 2, 2, 0, 2, 0, 2, 2, 0, 0, 0, 0, 0, 2, 2, 2,\n",
       "       2, 2, 0, 2, 2, 0, 0, 2, 2, 0, 0, 0, 2, 0, 2, 2, 0, 2], dtype=int64)"
      ]
     },
     "execution_count": 18,
     "metadata": {},
     "output_type": "execute_result"
    }
   ],
   "source": [
    "y_pred = np.argmax(y_pred, axis=1)\n",
    "y_pred"
   ]
  },
  {
   "cell_type": "markdown",
   "metadata": {},
   "source": [
    "### charger Modele "
   ]
  },
  {
   "cell_type": "code",
   "execution_count": 19,
   "metadata": {},
   "outputs": [],
   "source": [
    "model=load_model('model_vgg16.h5')"
   ]
  },
  {
   "cell_type": "markdown",
   "metadata": {},
   "source": [
    "### prédiction par une image"
   ]
  },
  {
   "cell_type": "code",
   "execution_count": 20,
   "metadata": {},
   "outputs": [],
   "source": [
    "#charger image\n",
    "img=image.load_img('D:\\\\3.jpg',target_size=(224,224))"
   ]
  },
  {
   "cell_type": "code",
   "execution_count": 21,
   "metadata": {},
   "outputs": [
    {
     "data": {
      "text/plain": [
       "array([[[119., 108., 104.],\n",
       "        [121., 110., 106.],\n",
       "        [ 79.,  68.,  64.],\n",
       "        ...,\n",
       "        [123., 161.,  86.],\n",
       "        [109., 147.,  70.],\n",
       "        [106., 146.,  83.]],\n",
       "\n",
       "       [[123., 112., 108.],\n",
       "        [101.,  90.,  86.],\n",
       "        [ 68.,  57.,  53.],\n",
       "        ...,\n",
       "        [134., 172.,  99.],\n",
       "        [146., 184., 109.],\n",
       "        [148., 188., 125.]],\n",
       "\n",
       "       [[171., 160., 156.],\n",
       "        [150., 139., 135.],\n",
       "        [203., 192., 188.],\n",
       "        ...,\n",
       "        [131., 168.,  99.],\n",
       "        [123., 160.,  91.],\n",
       "        [124., 164., 101.]],\n",
       "\n",
       "       ...,\n",
       "\n",
       "       [[169., 212., 156.],\n",
       "        [170., 213., 157.],\n",
       "        [172., 215., 159.],\n",
       "        ...,\n",
       "        [137., 127., 118.],\n",
       "        [123., 113., 104.],\n",
       "        [127., 117., 108.]],\n",
       "\n",
       "       [[166., 209., 153.],\n",
       "        [172., 215., 159.],\n",
       "        [168., 211., 155.],\n",
       "        ...,\n",
       "        [140., 130., 121.],\n",
       "        [129., 119., 110.],\n",
       "        [117., 107.,  98.]],\n",
       "\n",
       "       [[167., 210., 154.],\n",
       "        [164., 207., 151.],\n",
       "        [168., 211., 155.],\n",
       "        ...,\n",
       "        [129., 119., 110.],\n",
       "        [125., 115., 106.],\n",
       "        [122., 112., 103.]]], dtype=float32)"
      ]
     },
     "execution_count": 21,
     "metadata": {},
     "output_type": "execute_result"
    }
   ],
   "source": [
    "x=image.img_to_array(img)\n",
    "x"
   ]
  },
  {
   "cell_type": "code",
   "execution_count": 22,
   "metadata": {},
   "outputs": [
    {
     "name": "stdout",
     "output_type": "stream",
     "text": [
      "(224, 224, 3)\n"
     ]
    }
   ],
   "source": [
    "print(x.shape)\n"
   ]
  },
  {
   "cell_type": "code",
   "execution_count": 23,
   "metadata": {},
   "outputs": [
    {
     "data": {
      "text/plain": [
       "(1, 224, 224, 3)"
      ]
     },
     "execution_count": 23,
     "metadata": {},
     "output_type": "execute_result"
    }
   ],
   "source": [
    "from keras.applications.inception_v3 import preprocess_input\n",
    "x=np.expand_dims(x,axis=0)\n",
    "img_data=preprocess_input(x)\n",
    "img_data.shape"
   ]
  },
  {
   "cell_type": "code",
   "execution_count": 24,
   "metadata": {},
   "outputs": [
    {
     "name": "stdout",
     "output_type": "stream",
     "text": [
      "1/1 [==============================] - 1s 652ms/step\n"
     ]
    },
    {
     "data": {
      "text/plain": [
       "array([[0.05224846, 0.46092114, 0.3939138 , 0.09291653]], dtype=float32)"
      ]
     },
     "execution_count": 24,
     "metadata": {},
     "output_type": "execute_result"
    }
   ],
   "source": [
    "model.predict(img_data)"
   ]
  },
  {
   "cell_type": "code",
   "execution_count": 25,
   "metadata": {},
   "outputs": [
    {
     "name": "stdout",
     "output_type": "stream",
     "text": [
      "1/1 [==============================] - 0s 367ms/step\n"
     ]
    }
   ],
   "source": [
    "a=np.argmax(model.predict(img_data), axis=1)"
   ]
  },
  {
   "cell_type": "code",
   "execution_count": 26,
   "metadata": {},
   "outputs": [
    {
     "name": "stdout",
     "output_type": "stream",
     "text": [
      "[1]\n",
      "appartient a clsse de :  diseased_cotton_leaf\n"
     ]
    }
   ],
   "source": [
    "classe = training_set.class_indices\n",
    "print(a)\n",
    "for k,v in classe.items():\n",
    "    if(a == v):\n",
    "        print(\"appartient a clsse de : \",k)"
   ]
  }
 ],
 "metadata": {
  "interpreter": {
   "hash": "ad2bdc8ecc057115af97d19610ffacc2b4e99fae6737bb82f5d7fb13d2f2c186"
  },
  "kernelspec": {
   "display_name": "Python 3 (ipykernel)",
   "language": "python",
   "name": "python3"
  },
  "language_info": {
   "codemirror_mode": {
    "name": "ipython",
    "version": 3
   },
   "file_extension": ".py",
   "mimetype": "text/x-python",
   "name": "python",
   "nbconvert_exporter": "python",
   "pygments_lexer": "ipython3",
   "version": "3.9.7"
  }
 },
 "nbformat": 4,
 "nbformat_minor": 2
}
