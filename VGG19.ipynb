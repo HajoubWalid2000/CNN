{
 "cells": [
  {
   "cell_type": "markdown",
   "metadata": {},
   "source": [
    "\n",
    "<h1 align =\"center\" style = \"color:blue\">  Implémentation VGG 19</h1>\n",
    "<h3 align =\"center\" style = \"color:blue\">Mohamed walid hajoub SIDSD0001/21 </h3>"
   ]
  },
  {
   "cell_type": "markdown",
   "metadata": {},
   "source": [
    "## importer les bibliothéque"
   ]
  },
  {
   "cell_type": "code",
   "execution_count": 15,
   "metadata": {},
   "outputs": [],
   "source": [
    "import tensorflow as tf\n",
    "from tensorflow.keras.models import Sequential,Model\n",
    "from tensorflow.keras.layers import Conv2D\n",
    "from tensorflow.keras.layers import MaxPool2D\n",
    "from tensorflow.keras.layers import Flatten\n",
    "from tensorflow.keras.layers import Dense\n",
    "from tensorflow.keras.applications.vgg16 import VGG16\n",
    "from tensorflow.keras.applications.vgg19 import VGG19\n",
    "from tensorflow.keras.preprocessing import image\n",
    "from tensorflow.keras.preprocessing.image import ImageDataGenerator,load_img\n",
    "from tensorflow.keras.models import load_model\n",
    "import numpy as np\n",
    "import matplotlib.pyplot as plt"
   ]
  },
  {
   "cell_type": "markdown",
   "metadata": {},
   "source": [
    "## Importer Dataset"
   ]
  },
  {
   "cell_type": "code",
   "execution_count": 2,
   "metadata": {},
   "outputs": [],
   "source": [
    "train_path = 'D:\\\\Cotton_Disease\\\\train'\n",
    "test_path = 'D:\\\\Cotton_Disease\\\\test'\n",
    "IMAGE_SIZE =[224, 224]"
   ]
  },
  {
   "cell_type": "markdown",
   "metadata": {},
   "source": [
    "Cette étape est un prétraitement de données, nous travaillons avec une image c'est pourquoi nous faisons Image Augmentation.\n",
    " Ici, nous passons d'abord plusieurs arguments , c'est comme \n",
    " - **une mise à l'échelle** des caractéristiques qui fait dans le prétraitement des données ici notre image de 0 à 255 pixels et nous redimensionnons en 0 et 1. \n",
    " - Ensuite, c'est **Shear_range** appliquer des transactions aléatoires et nous garderons cette 0.2. \n",
    " - **zoom_range** qui appliquera un zoom aléatoire et nous gardons la valeur 0,2. \n",
    " - Et puis le dernier est **horizontal_flip** Inverser aléatoirement les entrées horizontalement"
   ]
  },
  {
   "cell_type": "code",
   "execution_count": 4,
   "metadata": {},
   "outputs": [],
   "source": [
    "train_datagen = ImageDataGenerator(rescale = 1./255)\n",
    "\n",
    "test_datagen = ImageDataGenerator(rescale = 1./255)"
   ]
  },
  {
   "cell_type": "code",
   "execution_count": 5,
   "metadata": {},
   "outputs": [
    {
     "name": "stdout",
     "output_type": "stream",
     "text": [
      "Found 1951 images belonging to 4 classes.\n",
      "Found 106 images belonging to 4 classes.\n"
     ]
    }
   ],
   "source": [
    "\n",
    "training_set = train_datagen.flow_from_directory(train_path,\n",
    "                                                 target_size = (224, 224),\n",
    "                                                 batch_size = 32,\n",
    "                                                 class_mode = 'categorical')\n",
    "\n",
    "test_set = test_datagen.flow_from_directory(test_path,\n",
    "                                            target_size = (224, 224),\n",
    "                                            batch_size = 32,  # donner chaque 32 image pour entrainner 32 par 32\n",
    "                                            class_mode = 'categorical')"
   ]
  },
  {
   "cell_type": "markdown",
   "metadata": {},
   "source": [
    "### analyse Dataset"
   ]
  },
  {
   "cell_type": "code",
   "execution_count": 6,
   "metadata": {},
   "outputs": [
    {
     "name": "stdout",
     "output_type": "stream",
     "text": [
      "******************************* trainset data **************************\n",
      "nombre de classe  4\n",
      "classe est :  {'diseased cotton plant': 0, 'diseased_cotton_leaf': 1, 'fresh cotton leaf': 2, 'fresh cotton plant': 3}\n",
      "taille de chaque image (224, 224, 3)\n",
      "******************************* testset data **************************\n",
      "nombre de classe  4\n",
      "classe est :  {'diseased cotton leaf': 0, 'diseased cotton plant': 1, 'fresh cotton leaf': 2, 'fresh cotton plant': 3}\n",
      "taille de chaque image (224, 224, 3)\n"
     ]
    }
   ],
   "source": [
    "print(\"******************************* trainset data **************************\")\n",
    "print(\"nombre de classe \",len(training_set.class_indices))\n",
    "print(\"classe est : \",training_set.class_indices)\n",
    "print(\"taille de chaque image\",training_set.image_shape)\n",
    "\n",
    "print(\"******************************* testset data **************************\")\n",
    "print(\"nombre de classe \",len(test_set.class_indices))\n",
    "print(\"classe est : \",test_set.class_indices)\n",
    "print(\"taille de chaque image\",test_set.image_shape)\n",
    "\n",
    "nbr_class = len(training_set.class_indices)\n"
   ]
  },
  {
   "cell_type": "markdown",
   "metadata": {},
   "source": [
    "## creation de VGG19 utiliser librairie keras ou crée propre code"
   ]
  },
  {
   "cell_type": "markdown",
   "metadata": {},
   "source": [
    "### code source"
   ]
  },
  {
   "cell_type": "code",
   "execution_count": 21,
   "metadata": {},
   "outputs": [],
   "source": [
    "def VGG19():\n",
    "    \n",
    "    #Block 1\n",
    "    x = Conv2D(filters = 64, kernel_size = (3,3), padding='same' , activation='relu', input_shape=(224,224,3)) \n",
    "    x = Conv2D(filters = 64, kernel_size = (3,3), padding='same' , activation='relu') (x) \n",
    "    x = MaxPool2D(pool_size=(2,2) , strides=(2,2) , padding='same') (x)\n",
    "    \n",
    "    #Block 2\n",
    "    x = Conv2D(filters = 128, kernel_size = (3,3), padding='same' , activation='relu') (x)\n",
    "    x = Conv2D(filters = 128, kernel_size = (3,3), padding='same' , activation='relu') (x) \n",
    "    x = MaxPool2D(pool_size=(2,2) , strides=(2,2) , padding='same') (x)\n",
    "    \n",
    "    #Block 3\n",
    "    x = Conv2D(filters = 256, kernel_size = (3,3), padding='same' , activation='relu') (x)\n",
    "    x = Conv2D(filters = 256, kernel_size = (3,3), padding='same' , activation='relu') (x)\n",
    "    x = Conv2D(filters = 256, kernel_size = (3,3), padding='same' , activation='relu') (x)\n",
    "    x = Conv2D(filters = 256, kernel_size = (3,3), padding='same' , activation='relu') (x)\n",
    "    x = MaxPool2D(pool_size=(2,2) , strides=(2,2) , padding='same') (x)\n",
    "    \n",
    "    #Block 4\n",
    "    x = Conv2D(filters = 512, kernel_size = (3,3), padding='same' , activation='relu') (x)\n",
    "    x = Conv2D(filters = 512, kernel_size = (3,3), padding='same' , activation='relu') (x)\n",
    "    x = Conv2D(filters = 512, kernel_size = (3,3), padding='same' , activation='relu') (x)\n",
    "    x = Conv2D(filters = 512, kernel_size = (3,3), padding='same' , activation='relu') (x)\n",
    "    x = MaxPool2D(pool_size=(2,2) , strides=(2,2) , padding='same') (x)\n",
    "    \n",
    "    #Block 5\n",
    "    x = Conv2D(filters = 512, kernel_size = (3,3), padding='same' , activation='relu') (x)\n",
    "    x = Conv2D(filters = 512, kernel_size = (3,3), padding='same' , activation='relu') (x)\n",
    "    x = Conv2D(filters = 512, kernel_size = (3,3), padding='same' , activation='relu') (x)\n",
    "    x = Conv2D(filters = 512, kernel_size = (3,3), padding='same' , activation='relu') (x)\n",
    "    x = MaxPool2D(pool_size=(2,2) , strides=(2,2) , padding='same') (x)\n",
    "    \n",
    "    #Block 6\n",
    "    x = Flatten()(x)\n",
    "    x = Dense(units = 4096 , activation='relu') (x)\n",
    "    x = Dense(units = 4096 , activation='relu') (x)\n",
    "    x = Dense(units = 1000 , activation='softmax') (x)\n",
    "    return model"
   ]
  },
  {
   "cell_type": "markdown",
   "metadata": {},
   "source": [
    "### keras librairie"
   ]
  },
  {
   "cell_type": "code",
   "execution_count": 9,
   "metadata": {},
   "outputs": [],
   "source": [
    "vgg19 = VGG19( input_shape=IMAGE_SIZE + [3], weights='imagenet', include_top=False)"
   ]
  },
  {
   "cell_type": "markdown",
   "metadata": {},
   "source": [
    "Dans Keras, chaque couche a un paramètre appelé \"trainable\". Pour geler les poids d'une couche particulière, nous devons définir ce paramètre sur **False**, indiquant que cette couche ne doit pas être entraînée. Après cela, nous passons en revue chaque couche et sélectionnons les couches que nous voulons former."
   ]
  },
  {
   "cell_type": "code",
   "execution_count": 10,
   "metadata": {},
   "outputs": [],
   "source": [
    "for layer in vgg19.layers:\n",
    "    layer.trainable = False"
   ]
  },
  {
   "cell_type": "markdown",
   "metadata": {},
   "source": [
    "### Aplatir la sortie de 3D -> 1D"
   ]
  },
  {
   "cell_type": "code",
   "execution_count": 11,
   "metadata": {},
   "outputs": [],
   "source": [
    "x = Flatten()(vgg19.output)"
   ]
  },
  {
   "cell_type": "markdown",
   "metadata": {},
   "source": [
    "### Connect layer"
   ]
  },
  {
   "cell_type": "code",
   "execution_count": 13,
   "metadata": {},
   "outputs": [],
   "source": [
    "x = Dense(nbr_class, activation='relu')(x)\n",
    "x = Dense(nbr_class, activation='relu')(x)\n",
    "prediction = Dense(nbr_class, activation='softmax')(x)\n"
   ]
  },
  {
   "cell_type": "markdown",
   "metadata": {},
   "source": [
    "### définir Modele"
   ]
  },
  {
   "cell_type": "code",
   "execution_count": 16,
   "metadata": {},
   "outputs": [],
   "source": [
    "model = Model(inputs=vgg19.input, outputs=prediction)"
   ]
  },
  {
   "cell_type": "markdown",
   "metadata": {},
   "source": [
    "### visualiser structure de Modele"
   ]
  },
  {
   "cell_type": "code",
   "execution_count": 17,
   "metadata": {},
   "outputs": [
    {
     "name": "stdout",
     "output_type": "stream",
     "text": [
      "Model: \"model\"\n",
      "_________________________________________________________________\n",
      " Layer (type)                Output Shape              Param #   \n",
      "=================================================================\n",
      " input_2 (InputLayer)        [(None, 224, 224, 3)]     0         \n",
      "                                                                 \n",
      " block1_conv1 (Conv2D)       (None, 224, 224, 64)      1792      \n",
      "                                                                 \n",
      " block1_conv2 (Conv2D)       (None, 224, 224, 64)      36928     \n",
      "                                                                 \n",
      " block1_pool (MaxPooling2D)  (None, 112, 112, 64)      0         \n",
      "                                                                 \n",
      " block2_conv1 (Conv2D)       (None, 112, 112, 128)     73856     \n",
      "                                                                 \n",
      " block2_conv2 (Conv2D)       (None, 112, 112, 128)     147584    \n",
      "                                                                 \n",
      " block2_pool (MaxPooling2D)  (None, 56, 56, 128)       0         \n",
      "                                                                 \n",
      " block3_conv1 (Conv2D)       (None, 56, 56, 256)       295168    \n",
      "                                                                 \n",
      " block3_conv2 (Conv2D)       (None, 56, 56, 256)       590080    \n",
      "                                                                 \n",
      " block3_conv3 (Conv2D)       (None, 56, 56, 256)       590080    \n",
      "                                                                 \n",
      " block3_conv4 (Conv2D)       (None, 56, 56, 256)       590080    \n",
      "                                                                 \n",
      " block3_pool (MaxPooling2D)  (None, 28, 28, 256)       0         \n",
      "                                                                 \n",
      " block4_conv1 (Conv2D)       (None, 28, 28, 512)       1180160   \n",
      "                                                                 \n",
      " block4_conv2 (Conv2D)       (None, 28, 28, 512)       2359808   \n",
      "                                                                 \n",
      " block4_conv3 (Conv2D)       (None, 28, 28, 512)       2359808   \n",
      "                                                                 \n",
      " block4_conv4 (Conv2D)       (None, 28, 28, 512)       2359808   \n",
      "                                                                 \n",
      " block4_pool (MaxPooling2D)  (None, 14, 14, 512)       0         \n",
      "                                                                 \n",
      " block5_conv1 (Conv2D)       (None, 14, 14, 512)       2359808   \n",
      "                                                                 \n",
      " block5_conv2 (Conv2D)       (None, 14, 14, 512)       2359808   \n",
      "                                                                 \n",
      " block5_conv3 (Conv2D)       (None, 14, 14, 512)       2359808   \n",
      "                                                                 \n",
      " block5_conv4 (Conv2D)       (None, 14, 14, 512)       2359808   \n",
      "                                                                 \n",
      " block5_pool (MaxPooling2D)  (None, 7, 7, 512)         0         \n",
      "                                                                 \n",
      " flatten (Flatten)           (None, 25088)             0         \n",
      "                                                                 \n",
      " dense (Dense)               (None, 4)                 100356    \n",
      "                                                                 \n",
      " dense_1 (Dense)             (None, 4)                 20        \n",
      "                                                                 \n",
      " dense_2 (Dense)             (None, 4)                 20        \n",
      "                                                                 \n",
      "=================================================================\n",
      "Total params: 20,124,780\n",
      "Trainable params: 100,396\n",
      "Non-trainable params: 20,024,384\n",
      "_________________________________________________________________\n"
     ]
    }
   ],
   "source": [
    "model.summary()"
   ]
  },
  {
   "cell_type": "markdown",
   "metadata": {},
   "source": [
    "### Compiler Modele"
   ]
  },
  {
   "cell_type": "code",
   "execution_count": 18,
   "metadata": {},
   "outputs": [],
   "source": [
    "\n",
    "model.compile(\n",
    "  loss='categorical_crossentropy',\n",
    "  optimizer='adam',\n",
    "  metrics=['accuracy']\n",
    ")\n"
   ]
  },
  {
   "cell_type": "markdown",
   "metadata": {},
   "source": [
    "### Entrainer modele"
   ]
  },
  {
   "cell_type": "code",
   "execution_count": 19,
   "metadata": {
    "scrolled": true
   },
   "outputs": [
    {
     "name": "stderr",
     "output_type": "stream",
     "text": [
      "C:\\Users\\HP\\AppData\\Local\\Temp/ipykernel_16500/2574855507.py:1: UserWarning: `Model.fit_generator` is deprecated and will be removed in a future version. Please use `Model.fit`, which supports generators.\n",
      "  r = model.fit_generator(\n"
     ]
    },
    {
     "name": "stdout",
     "output_type": "stream",
     "text": [
      "Epoch 1/6\n",
      "61/61 [==============================] - 911s 15s/step - loss: 1.3790 - accuracy: 0.4141 - val_loss: 1.3896 - val_accuracy: 0.2358\n",
      "Epoch 2/6\n",
      "61/61 [==============================] - 809s 13s/step - loss: 1.3586 - accuracy: 0.4177 - val_loss: 1.3961 - val_accuracy: 0.2358\n",
      "Epoch 3/6\n",
      "61/61 [==============================] - 772s 13s/step - loss: 1.3425 - accuracy: 0.4177 - val_loss: 1.4054 - val_accuracy: 0.2358\n",
      "Epoch 4/6\n",
      "61/61 [==============================] - 670s 11s/step - loss: 1.3300 - accuracy: 0.4177 - val_loss: 1.4175 - val_accuracy: 0.2358\n",
      "Epoch 5/6\n",
      "61/61 [==============================] - 699s 11s/step - loss: 1.3216 - accuracy: 0.4177 - val_loss: 1.4304 - val_accuracy: 0.2358\n",
      "Epoch 6/6\n",
      "61/61 [==============================] - 707s 12s/step - loss: 1.3164 - accuracy: 0.4177 - val_loss: 1.4417 - val_accuracy: 0.2358\n"
     ]
    }
   ],
   "source": [
    "r = model.fit_generator(\n",
    "  training_set,\n",
    "  validation_data=test_set,\n",
    "  epochs=6,\n",
    "  steps_per_epoch=len(training_set),\n",
    "  validation_steps=len(test_set)\n",
    ")"
   ]
  },
  {
   "cell_type": "markdown",
   "metadata": {},
   "source": [
    "### Visualiser Loss / accuracy"
   ]
  },
  {
   "cell_type": "code",
   "execution_count": 20,
   "metadata": {},
   "outputs": [
    {
     "data": {
      "image/png": "[encoded data removed]",
      "text/plain": [
       "<Figure size 432x288 with 1 Axes>"
      ]
     },
     "metadata": {
      "needs_background": "light"
     },
     "output_type": "display_data"
    },
    {
     "data": {
      "image/png": "[encoded data removed]",
      "text/plain": [
       "<Figure size 432x288 with 1 Axes>"
      ]
     },
     "metadata": {
      "needs_background": "light"
     },
     "output_type": "display_data"
    },
    {
     "data": {
      "text/plain": [
       "<Figure size 432x288 with 0 Axes>"
      ]
     },
     "metadata": {},
     "output_type": "display_data"
    }
   ],
   "source": [
    "# plot the loss\n",
    "plt.plot(r.history['loss'], label='train loss')\n",
    "plt.plot(r.history['val_loss'], label='val loss')\n",
    "plt.legend()\n",
    "plt.show()\n",
    "plt.savefig('LossVal_loss')\n",
    "\n",
    "# plot the accuracy\n",
    "plt.plot(r.history['accuracy'], label='train acc')\n",
    "plt.plot(r.history['val_accuracy'], label='val acc')\n",
    "plt.legend()\n",
    "plt.show()\n",
    "plt.savefig('AccVal_acc')"
   ]
  },
  {
   "cell_type": "markdown",
   "metadata": {},
   "source": [
    "### sauvegarger Modele"
   ]
  },
  {
   "cell_type": "code",
   "execution_count": null,
   "metadata": {},
   "outputs": [],
   "source": [
    "model.save('model_vgg19.h5')"
   ]
  },
  {
   "cell_type": "markdown",
   "metadata": {},
   "source": [
    "### prédiction"
   ]
  },
  {
   "cell_type": "code",
   "execution_count": null,
   "metadata": {},
   "outputs": [
    {
     "name": "stdout",
     "output_type": "stream",
     "text": [
      "4/4 [==============================] - 39s 9s/step\n"
     ]
    },
    {
     "data": {
      "text/plain": [
       "array([[2.56445855e-01, 3.79233599e-01, 1.80914029e-01, 1.83406457e-01],\n",
       "       [6.11341884e-03, 1.37990774e-28, 4.83018837e-35, 9.93886530e-01],\n",
       "       [3.82818617e-02, 2.65389751e-03, 9.57659960e-01, 1.40438834e-03],\n",
       "       [1.89391824e-06, 1.27361576e-14, 6.48114605e-17, 9.99998093e-01],\n",
       "       [9.55017269e-01, 0.00000000e+00, 0.00000000e+00, 4.49827462e-02],\n",
       "       [7.54078388e-01, 1.44054599e-31, 0.00000000e+00, 2.45921627e-01],\n",
       "       [1.47994421e-02, 4.43479221e-04, 9.84516561e-01, 2.40542548e-04],\n",
       "       [5.32275081e-01, 6.43923146e-37, 0.00000000e+00, 4.67724919e-01],\n",
       "       [1.49424188e-04, 8.58466578e-08, 9.99850392e-01, 5.23069268e-08],\n",
       "       [1.87251717e-03, 9.41884082e-06, 9.98112679e-01, 5.38413315e-06],\n",
       "       [9.75369155e-01, 0.00000000e+00, 0.00000000e+00, 2.46308148e-02],\n",
       "       [9.60336804e-01, 0.00000000e+00, 0.00000000e+00, 3.96632478e-02],\n",
       "       [2.56445855e-01, 3.79233599e-01, 1.80914029e-01, 1.83406457e-01],\n",
       "       [4.77498537e-03, 5.37400847e-05, 9.95141268e-01, 3.00004504e-05],\n",
       "       [9.22694162e-04, 2.52743689e-06, 9.99073267e-01, 1.47083119e-06],\n",
       "       [9.86954510e-01, 0.00000000e+00, 0.00000000e+00, 1.30455159e-02],\n",
       "       [9.24226820e-01, 1.71668002e-38, 0.00000000e+00, 7.57731870e-02],\n",
       "       [3.04572080e-04, 7.12977699e-37, 0.00000000e+00, 9.99695420e-01],\n",
       "       [4.38325526e-03, 4.58237992e-05, 9.95545268e-01, 2.56367639e-05],\n",
       "       [3.43542993e-01, 4.62999703e-35, 0.00000000e+00, 6.56457007e-01],\n",
       "       [1.18559481e-04, 5.58539384e-08, 9.99881268e-01, 3.42315118e-08],\n",
       "       [1.74177023e-06, 2.81659651e-13, 3.05674222e-15, 9.99998212e-01],\n",
       "       [1.24791816e-01, 0.00000000e+00, 0.00000000e+00, 8.75208199e-01],\n",
       "       [1.87550377e-05, 1.01980674e-12, 2.91133322e-08, 9.99981165e-01],\n",
       "       [8.41268455e-04, 2.12871555e-06, 9.99155402e-01, 1.24169117e-06],\n",
       "       [2.56445855e-01, 3.79233599e-01, 1.80914029e-01, 1.83406457e-01],\n",
       "       [2.10322618e-01, 3.50553989e-02, 6.21350184e-02, 6.92487001e-01],\n",
       "       [2.56445855e-01, 3.79233599e-01, 1.80914029e-01, 1.83406457e-01],\n",
       "       [1.78649265e-03, 8.63027890e-06, 9.98199940e-01, 4.93923062e-06],\n",
       "       [2.56445855e-01, 3.79233599e-01, 1.80914029e-01, 1.83406457e-01],\n",
       "       [6.23840833e-06, 3.41943995e-18, 1.84779487e-21, 9.99993801e-01],\n",
       "       [9.90310788e-01, 0.00000000e+00, 0.00000000e+00, 9.68913082e-03],\n",
       "       [2.56445855e-01, 3.79233599e-01, 1.80914029e-01, 1.83406457e-01],\n",
       "       [5.62162548e-02, 5.52880205e-03, 9.35359180e-01, 2.89578689e-03],\n",
       "       [7.78460162e-06, 2.58100874e-09, 5.66186764e-10, 9.99992251e-01],\n",
       "       [5.73333346e-05, 9.86086936e-22, 4.50664187e-26, 9.99942660e-01],\n",
       "       [2.56445855e-01, 3.79233599e-01, 1.80914029e-01, 1.83406457e-01],\n",
       "       [2.56445855e-01, 3.79233599e-01, 1.80914029e-01, 1.83406457e-01],\n",
       "       [2.56445855e-01, 3.79233599e-01, 1.80914029e-01, 1.83406457e-01],\n",
       "       [7.92994857e-01, 6.76838882e-18, 2.61063608e-22, 2.07005173e-01],\n",
       "       [2.71220859e-02, 0.00000000e+00, 0.00000000e+00, 9.72877920e-01],\n",
       "       [2.90420903e-05, 4.09460643e-09, 9.99970913e-01, 2.60013477e-09],\n",
       "       [1.54866982e-04, 9.17464149e-08, 9.99845028e-01, 5.58512738e-08],\n",
       "       [1.69392884e-01, 3.05890717e-05, 5.50685823e-01, 2.79890656e-01],\n",
       "       [4.41503420e-04, 6.42459952e-07, 9.99557436e-01, 3.80899081e-07],\n",
       "       [9.78605926e-01, 0.00000000e+00, 0.00000000e+00, 2.13941112e-02],\n",
       "       [9.40740049e-01, 0.00000000e+00, 0.00000000e+00, 5.92599995e-02],\n",
       "       [3.47916066e-04, 4.12693254e-07, 9.99651313e-01, 2.46151131e-07],\n",
       "       [9.92326021e-01, 0.00000000e+00, 0.00000000e+00, 7.67400442e-03],\n",
       "       [9.95207727e-01, 0.00000000e+00, 0.00000000e+00, 4.79224371e-03],\n",
       "       [2.67850220e-01, 3.41690779e-01, 2.24489272e-01, 1.65969670e-01],\n",
       "       [9.87907827e-01, 0.00000000e+00, 0.00000000e+00, 1.20921806e-02],\n",
       "       [3.43617275e-02, 0.00000000e+00, 0.00000000e+00, 9.65638280e-01],\n",
       "       [2.33223289e-02, 1.04083365e-03, 9.75078821e-01, 5.57970663e-04],\n",
       "       [9.62294817e-01, 0.00000000e+00, 0.00000000e+00, 3.77051271e-02],\n",
       "       [4.89338185e-04, 4.21524856e-29, 2.03113614e-35, 9.99510646e-01],\n",
       "       [1.35908332e-02, 1.88509977e-04, 4.19181393e-04, 9.85801518e-01],\n",
       "       [8.83024069e-04, 2.32923230e-06, 9.99113262e-01, 1.35699236e-06],\n",
       "       [5.51097502e-04, 9.69975986e-07, 9.99447405e-01, 5.71866337e-07],\n",
       "       [8.62190558e-04, 2.22814424e-06, 9.99134243e-01, 1.29888190e-06],\n",
       "       [2.56445855e-01, 3.79233599e-01, 1.80914029e-01, 1.83406457e-01],\n",
       "       [6.22388385e-02, 6.72775414e-03, 9.27519441e-01, 3.51396925e-03],\n",
       "       [4.41503420e-04, 6.42459952e-07, 9.99557436e-01, 3.80899081e-07],\n",
       "       [2.56445855e-01, 3.79233599e-01, 1.80914029e-01, 1.83406457e-01],\n",
       "       [1.14315504e-03, 1.90353288e-23, 1.66475133e-28, 9.98856902e-01],\n",
       "       [3.43859438e-06, 2.12629056e-24, 4.40454220e-29, 9.99996543e-01],\n",
       "       [7.41329091e-03, 1.21954086e-04, 9.92397368e-01, 6.73249087e-05],\n",
       "       [2.56445855e-01, 3.79233599e-01, 1.80914029e-01, 1.83406457e-01],\n",
       "       [9.88792121e-01, 0.00000000e+00, 0.00000000e+00, 1.12078050e-02],\n",
       "       [1.09950131e-04, 4.85548490e-08, 9.99889970e-01, 2.98147214e-08],\n",
       "       [7.54187407e-04, 5.64748234e-06, 7.90486638e-07, 9.99239445e-01],\n",
       "       [9.65439022e-01, 0.00000000e+00, 0.00000000e+00, 3.45610082e-02],\n",
       "       [2.56445855e-01, 3.79233599e-01, 1.80914029e-01, 1.83406457e-01],\n",
       "       [2.77447075e-01, 2.44257286e-01, 3.58350933e-01, 1.19944766e-01],\n",
       "       [9.86141622e-01, 0.00000000e+00, 0.00000000e+00, 1.38583025e-02],\n",
       "       [2.75772631e-01, 2.98769146e-01, 2.79637754e-01, 1.45820484e-01],\n",
       "       [1.18031166e-03, 3.99414785e-06, 9.98813391e-01, 2.30996943e-06],\n",
       "       [2.56445855e-01, 3.79233599e-01, 1.80914029e-01, 1.83406457e-01],\n",
       "       [3.38081247e-03, 2.00024040e-25, 4.56463029e-31, 9.96619105e-01],\n",
       "       [1.33079225e-02, 3.63549712e-04, 9.86130774e-01, 1.97726054e-04],\n",
       "       [9.02381301e-01, 0.00000000e+00, 0.00000000e+00, 9.76186618e-02],\n",
       "       [4.33208141e-03, 4.48329811e-05, 9.95598018e-01, 2.50898756e-05],\n",
       "       [3.02956197e-02, 6.13630780e-35, 0.00000000e+00, 9.69704390e-01],\n",
       "       [2.76367873e-01, 2.31475875e-01, 3.78321201e-01, 1.13835119e-01],\n",
       "       [9.59951341e-01, 0.00000000e+00, 0.00000000e+00, 4.00486216e-02],\n",
       "       [2.56445855e-01, 3.79233599e-01, 1.80914029e-01, 1.83406457e-01],\n",
       "       [9.29050624e-01, 0.00000000e+00, 0.00000000e+00, 7.09493533e-02],\n",
       "       [8.48965883e-01, 1.04503816e-24, 9.46475890e-31, 1.51034176e-01],\n",
       "       [7.37449736e-05, 2.31205544e-08, 9.99926209e-01, 1.43407721e-08],\n",
       "       [9.92936432e-01, 0.00000000e+00, 0.00000000e+00, 7.06361793e-03],\n",
       "       [2.56445855e-01, 3.79233599e-01, 1.80914029e-01, 1.83406457e-01],\n",
       "       [2.56445855e-01, 3.79233599e-01, 1.80914029e-01, 1.83406457e-01],\n",
       "       [8.87349546e-01, 1.04285260e-30, 3.47873157e-38, 1.12650424e-01],\n",
       "       [9.97804463e-01, 0.00000000e+00, 0.00000000e+00, 2.19554873e-03],\n",
       "       [9.65849977e-05, 7.63531176e-08, 5.95109491e-08, 9.99903202e-01],\n",
       "       [9.94331360e-01, 0.00000000e+00, 0.00000000e+00, 5.66867972e-03],\n",
       "       [2.56445855e-01, 3.79233599e-01, 1.80914029e-01, 1.83406457e-01],\n",
       "       [5.80579444e-06, 2.12829347e-13, 1.62153542e-15, 9.99994159e-01],\n",
       "       [1.36342234e-04, 2.55637983e-10, 5.47371030e-07, 9.99863148e-01],\n",
       "       [9.33830738e-01, 0.00000000e+00, 0.00000000e+00, 6.61692396e-02],\n",
       "       [2.56445855e-01, 3.79233599e-01, 1.80914029e-01, 1.83406457e-01],\n",
       "       [1.38300157e-03, 6.17454308e-12, 2.84534427e-14, 9.98616934e-01],\n",
       "       [9.58710790e-01, 0.00000000e+00, 0.00000000e+00, 4.12891805e-02],\n",
       "       [2.77554870e-01, 2.46111169e-01, 3.55504334e-01, 1.20829627e-01],\n",
       "       [1.71817053e-04, 1.11271788e-07, 9.99827862e-01, 6.75602010e-08],\n",
       "       [9.97913539e-01, 0.00000000e+00, 0.00000000e+00, 2.08649435e-03]],\n",
       "      dtype=float32)"
      ]
     },
     "execution_count": 22,
     "metadata": {},
     "output_type": "execute_result"
    }
   ],
   "source": [
    "y_pred = model.predict(test_set)\n",
    "y_pred\n"
   ]
  },
  {
   "cell_type": "code",
   "execution_count": null,
   "metadata": {},
   "outputs": [
    {
     "data": {
      "text/plain": [
       "array([1, 3, 2, 3, 0, 0, 2, 0, 2, 2, 0, 0, 1, 2, 2, 0, 0, 3, 2, 3, 2, 3,\n",
       "       3, 3, 2, 1, 3, 1, 2, 1, 3, 0, 1, 2, 3, 3, 1, 1, 1, 0, 3, 2, 2, 2,\n",
       "       2, 0, 0, 2, 0, 0, 1, 0, 3, 2, 0, 3, 3, 2, 2, 2, 1, 2, 2, 1, 3, 3,\n",
       "       2, 1, 0, 2, 3, 0, 1, 2, 0, 1, 2, 1, 3, 2, 0, 2, 3, 2, 0, 1, 0, 0,\n",
       "       2, 0, 1, 1, 0, 0, 3, 0, 1, 3, 3, 0, 1, 3, 0, 2, 2, 0], dtype=int64)"
      ]
     },
     "execution_count": 23,
     "metadata": {},
     "output_type": "execute_result"
    }
   ],
   "source": [
    "y_pred = np.argmax(y_pred, axis=1)\n",
    "y_pred"
   ]
  },
  {
   "cell_type": "markdown",
   "metadata": {},
   "source": [
    "### charger Modele "
   ]
  },
  {
   "cell_type": "code",
   "execution_count": null,
   "metadata": {},
   "outputs": [],
   "source": [
    "model=load_model('model_vgg16.h5')"
   ]
  },
  {
   "cell_type": "markdown",
   "metadata": {},
   "source": [
    "### prédiction par une image"
   ]
  },
  {
   "cell_type": "code",
   "execution_count": null,
   "metadata": {},
   "outputs": [],
   "source": [
    "#charger image\n",
    "img=image.load_img('D:\\\\3.jpg',target_size=(224,224))"
   ]
  },
  {
   "cell_type": "code",
   "execution_count": null,
   "metadata": {},
   "outputs": [
    {
     "data": {
      "text/plain": [
       "array([[[119., 108., 104.],\n",
       "        [121., 110., 106.],\n",
       "        [ 79.,  68.,  64.],\n",
       "        ...,\n",
       "        [123., 161.,  86.],\n",
       "        [109., 147.,  70.],\n",
       "        [106., 146.,  83.]],\n",
       "\n",
       "       [[123., 112., 108.],\n",
       "        [101.,  90.,  86.],\n",
       "        [ 68.,  57.,  53.],\n",
       "        ...,\n",
       "        [134., 172.,  99.],\n",
       "        [146., 184., 109.],\n",
       "        [148., 188., 125.]],\n",
       "\n",
       "       [[171., 160., 156.],\n",
       "        [150., 139., 135.],\n",
       "        [203., 192., 188.],\n",
       "        ...,\n",
       "        [131., 168.,  99.],\n",
       "        [123., 160.,  91.],\n",
       "        [124., 164., 101.]],\n",
       "\n",
       "       ...,\n",
       "\n",
       "       [[169., 212., 156.],\n",
       "        [170., 213., 157.],\n",
       "        [172., 215., 159.],\n",
       "        ...,\n",
       "        [137., 127., 118.],\n",
       "        [123., 113., 104.],\n",
       "        [127., 117., 108.]],\n",
       "\n",
       "       [[166., 209., 153.],\n",
       "        [172., 215., 159.],\n",
       "        [168., 211., 155.],\n",
       "        ...,\n",
       "        [140., 130., 121.],\n",
       "        [129., 119., 110.],\n",
       "        [117., 107.,  98.]],\n",
       "\n",
       "       [[167., 210., 154.],\n",
       "        [164., 207., 151.],\n",
       "        [168., 211., 155.],\n",
       "        ...,\n",
       "        [129., 119., 110.],\n",
       "        [125., 115., 106.],\n",
       "        [122., 112., 103.]]], dtype=float32)"
      ]
     },
     "execution_count": 41,
     "metadata": {},
     "output_type": "execute_result"
    }
   ],
   "source": [
    "x=image.img_to_array(img)\n",
    "x"
   ]
  },
  {
   "cell_type": "code",
   "execution_count": null,
   "metadata": {},
   "outputs": [
    {
     "name": "stdout",
     "output_type": "stream",
     "text": [
      "(224, 224, 3)\n"
     ]
    }
   ],
   "source": [
    "print(x.shape)\n"
   ]
  },
  {
   "cell_type": "code",
   "execution_count": null,
   "metadata": {},
   "outputs": [
    {
     "data": {
      "text/plain": [
       "(1, 224, 224, 3)"
      ]
     },
     "execution_count": 43,
     "metadata": {},
     "output_type": "execute_result"
    }
   ],
   "source": [
    "from keras.applications.inception_v3 import preprocess_input\n",
    "x=np.expand_dims(x,axis=0)\n",
    "img_data=preprocess_input(x)\n",
    "img_data.shape"
   ]
  },
  {
   "cell_type": "code",
   "execution_count": null,
   "metadata": {},
   "outputs": [
    {
     "name": "stdout",
     "output_type": "stream",
     "text": [
      "1/1 [==============================] - 0s 383ms/step\n"
     ]
    },
    {
     "data": {
      "text/plain": [
       "array([[0.26542643, 0.3509244 , 0.21337363, 0.17027554]], dtype=float32)"
      ]
     },
     "execution_count": 44,
     "metadata": {},
     "output_type": "execute_result"
    }
   ],
   "source": [
    "model.predict(img_data)"
   ]
  },
  {
   "cell_type": "code",
   "execution_count": null,
   "metadata": {},
   "outputs": [
    {
     "name": "stdout",
     "output_type": "stream",
     "text": [
      "1/1 [==============================] - 0s 381ms/step\n"
     ]
    }
   ],
   "source": [
    "a=np.argmax(model.predict(img_data), axis=1)"
   ]
  },
  {
   "cell_type": "code",
   "execution_count": null,
   "metadata": {},
   "outputs": [
    {
     "name": "stdout",
     "output_type": "stream",
     "text": [
      "[1]\n",
      "appartient a clsse de :  diseased_cotton_leaf\n"
     ]
    }
   ],
   "source": [
    "classe = training_set.class_indices\n",
    "print(a)\n",
    "for k,v in classe.items():\n",
    "    if(a == v):\n",
    "        print(\"appartient a clsse de : \",k)"
   ]
  }
 ],
 "metadata": {
  "interpreter": {
   "hash": "ad2bdc8ecc057115af97d19610ffacc2b4e99fae6737bb82f5d7fb13d2f2c186"
  },
  "kernelspec": {
   "display_name": "Python 3 (ipykernel)",
   "language": "python",
   "name": "python3"
  },
  "language_info": {
   "codemirror_mode": {
    "name": "ipython",
    "version": 3
   },
   "file_extension": ".py",
   "mimetype": "text/x-python",
   "name": "python",
   "nbconvert_exporter": "python",
   "pygments_lexer": "ipython3",
   "version": "3.9.7"
  }
 },
 "nbformat": 4,
 "nbformat_minor": 2
}
